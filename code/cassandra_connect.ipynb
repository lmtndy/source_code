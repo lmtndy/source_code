{
 "cells": [
  {
   "cell_type": "code",
   "execution_count": 7,
   "id": "b9efa607",
   "metadata": {},
   "outputs": [
    {
     "name": "stdout",
     "output_type": "stream",
     "text": [
      "Requirement already satisfied: cassandra-driver in c:\\users\\lamta\\anaconda3\\lib\\site-packages (3.29.0)\n",
      "Requirement already satisfied: geomet<0.3,>=0.1 in c:\\users\\lamta\\anaconda3\\lib\\site-packages (from cassandra-driver) (0.2.1.post1)\n",
      "Requirement already satisfied: six in c:\\users\\lamta\\anaconda3\\lib\\site-packages (from geomet<0.3,>=0.1->cassandra-driver) (1.16.0)\n",
      "Requirement already satisfied: click in c:\\users\\lamta\\anaconda3\\lib\\site-packages (from geomet<0.3,>=0.1->cassandra-driver) (8.0.4)\n",
      "Requirement already satisfied: colorama in c:\\users\\lamta\\anaconda3\\lib\\site-packages (from click->geomet<0.3,>=0.1->cassandra-driver) (0.4.4)\n"
     ]
    }
   ],
   "source": [
    "!pip install cassandra-driver"
   ]
  },
  {
   "cell_type": "code",
   "execution_count": 3,
   "id": "984451d5",
   "metadata": {},
   "outputs": [],
   "source": [
    "import pandas as pd"
   ]
  },
  {
   "cell_type": "code",
   "execution_count": 48,
   "id": "ae8c0d26",
   "metadata": {},
   "outputs": [],
   "source": [
    "from cassandra.cluster import Cluster\n",
    "from cassandra.auth import PlainTextAuthProvider\n",
    "\n",
    "# Thiết lập địa chỉ IP của các nút Cassandra trong cluster\n",
    "contact_points = [\"127.0.0.1\"]\n",
    "\n",
    "# Kết nối đến cluster\n",
    "cluster = Cluster(contact_points, port=9043)\n",
    "\n",
    "# Kết nối đến keyspace cụ thể\n",
    "session = cluster.connect('thithpt')\n",
    "\n",
    "# Thực hiện truy vấn\n",
    "rows = session.execute('SELECT * FROM ThiSinh LIMIT 5')  # Thay đổi truy vấn theo nhu cầu của bạn\n",
    "\n",
    "# Chuyển đổi kết quả thành DataFrame\n",
    "df = pd.DataFrame(list(rows))\n",
    "\n",
    "# Đóng kết nối\n",
    "cluster.shutdown()\n"
   ]
  },
  {
   "cell_type": "code",
   "execution_count": 49,
   "id": "75774725",
   "metadata": {},
   "outputs": [
    {
     "data": {
      "text/html": [
       "<div>\n",
       "<style scoped>\n",
       "    .dataframe tbody tr th:only-of-type {\n",
       "        vertical-align: middle;\n",
       "    }\n",
       "\n",
       "    .dataframe tbody tr th {\n",
       "        vertical-align: top;\n",
       "    }\n",
       "\n",
       "    .dataframe thead th {\n",
       "        text-align: right;\n",
       "    }\n",
       "</style>\n",
       "<table border=\"1\" class=\"dataframe\">\n",
       "  <thead>\n",
       "    <tr style=\"text-align: right;\">\n",
       "      <th></th>\n",
       "      <th>sbd</th>\n",
       "      <th>dia_li</th>\n",
       "      <th>gdcd</th>\n",
       "      <th>gioi_tinh</th>\n",
       "      <th>hoa_hoc</th>\n",
       "      <th>lich_su</th>\n",
       "      <th>ngoai_ngu</th>\n",
       "      <th>ngu_van</th>\n",
       "      <th>sinh_hoc</th>\n",
       "      <th>toan</th>\n",
       "      <th>vat_li</th>\n",
       "    </tr>\n",
       "  </thead>\n",
       "  <tbody>\n",
       "    <tr>\n",
       "      <th>0</th>\n",
       "      <td>1084545</td>\n",
       "      <td>7.0</td>\n",
       "      <td>8.75</td>\n",
       "      <td>Nữ</td>\n",
       "      <td>None</td>\n",
       "      <td>7.25</td>\n",
       "      <td>8.2</td>\n",
       "      <td>7.75</td>\n",
       "      <td>None</td>\n",
       "      <td>7.4</td>\n",
       "      <td>None</td>\n",
       "    </tr>\n",
       "    <tr>\n",
       "      <th>1</th>\n",
       "      <td>1037113</td>\n",
       "      <td>7.0</td>\n",
       "      <td>8.25</td>\n",
       "      <td>Nữ</td>\n",
       "      <td>None</td>\n",
       "      <td>9.00</td>\n",
       "      <td>7.4</td>\n",
       "      <td>8.00</td>\n",
       "      <td>None</td>\n",
       "      <td>8.6</td>\n",
       "      <td>None</td>\n",
       "    </tr>\n",
       "    <tr>\n",
       "      <th>2</th>\n",
       "      <td>1074835</td>\n",
       "      <td>6.5</td>\n",
       "      <td>7.75</td>\n",
       "      <td>Nữ</td>\n",
       "      <td>None</td>\n",
       "      <td>5.75</td>\n",
       "      <td>4.2</td>\n",
       "      <td>7.50</td>\n",
       "      <td>None</td>\n",
       "      <td>6.6</td>\n",
       "      <td>None</td>\n",
       "    </tr>\n",
       "    <tr>\n",
       "      <th>3</th>\n",
       "      <td>1058620</td>\n",
       "      <td>6.5</td>\n",
       "      <td>9.25</td>\n",
       "      <td>Nam</td>\n",
       "      <td>None</td>\n",
       "      <td>6.50</td>\n",
       "      <td>9.2</td>\n",
       "      <td>8.25</td>\n",
       "      <td>None</td>\n",
       "      <td>5.8</td>\n",
       "      <td>None</td>\n",
       "    </tr>\n",
       "    <tr>\n",
       "      <th>4</th>\n",
       "      <td>2043346</td>\n",
       "      <td>6.5</td>\n",
       "      <td>8.25</td>\n",
       "      <td>Nam</td>\n",
       "      <td>None</td>\n",
       "      <td>7.25</td>\n",
       "      <td>5.4</td>\n",
       "      <td>5.75</td>\n",
       "      <td>None</td>\n",
       "      <td>7.0</td>\n",
       "      <td>None</td>\n",
       "    </tr>\n",
       "  </tbody>\n",
       "</table>\n",
       "</div>"
      ],
      "text/plain": [
       "       sbd  dia_li  gdcd gioi_tinh hoa_hoc  lich_su  ngoai_ngu  ngu_van  \\\n",
       "0  1084545     7.0  8.75        Nữ    None     7.25        8.2     7.75   \n",
       "1  1037113     7.0  8.25        Nữ    None     9.00        7.4     8.00   \n",
       "2  1074835     6.5  7.75        Nữ    None     5.75        4.2     7.50   \n",
       "3  1058620     6.5  9.25       Nam    None     6.50        9.2     8.25   \n",
       "4  2043346     6.5  8.25       Nam    None     7.25        5.4     5.75   \n",
       "\n",
       "  sinh_hoc  toan vat_li  \n",
       "0     None   7.4   None  \n",
       "1     None   8.6   None  \n",
       "2     None   6.6   None  \n",
       "3     None   5.8   None  \n",
       "4     None   7.0   None  "
      ]
     },
     "execution_count": 49,
     "metadata": {},
     "output_type": "execute_result"
    }
   ],
   "source": [
    "df.head()"
   ]
  },
  {
   "cell_type": "code",
   "execution_count": null,
   "id": "14324fd3",
   "metadata": {},
   "outputs": [],
   "source": []
  }
 ],
 "metadata": {
  "kernelspec": {
   "display_name": "Python 3 (ipykernel)",
   "language": "python",
   "name": "python3"
  },
  "language_info": {
   "codemirror_mode": {
    "name": "ipython",
    "version": 3
   },
   "file_extension": ".py",
   "mimetype": "text/x-python",
   "name": "python",
   "nbconvert_exporter": "python",
   "pygments_lexer": "ipython3",
   "version": "3.9.7"
  }
 },
 "nbformat": 4,
 "nbformat_minor": 5
}
