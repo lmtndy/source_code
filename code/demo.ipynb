{
 "cells": [
  {
   "cell_type": "code",
   "execution_count": 1,
   "id": "c12548e6",
   "metadata": {},
   "outputs": [],
   "source": [
    "from imblearn.over_sampling import SMOTE\n",
    "from sklearn.model_selection import train_test_split\n",
    "from sklearn.tree import DecisionTreeClassifier # Decision Tree\n",
    "from sklearn.metrics import confusion_matrix, classification_report,accuracy_score\n",
    "\n",
    "import matplotlib.pyplot as plt\n",
    "import seaborn as sns\n",
    "import pandas as pd\n",
    "import numpy as np"
   ]
  },
  {
   "cell_type": "code",
   "execution_count": 2,
   "id": "9070763e",
   "metadata": {},
   "outputs": [],
   "source": [
    "# Thay đổi đường dẫn của tệp CSV thành đường dẫn thực tế của bạn\n",
    "file_path = 'D:/Study/Ma_Nguon_mo/bai_cuoi_ki/data_label_done.csv'\n",
    "\n",
    "# Đọc tệp CSV vào DataFrame\n",
    "df = pd.read_csv(file_path)\n",
    "\n",
    "# Hiển thị dữ liệu trong DataFrame\n",
    "df.head()"
   ]
  },
  {
   "cell_type": "code",
   "execution_count": 3,
   "id": "ec3c7b63",
   "metadata": {},
   "outputs": [],
   "source": [
    "# Separate features (X) and labels (y)\n",
    "X = df.drop(['Neighborhood', 'SalePrice', 'PriceCategory'], axis=1)\n",
    "y = df['PriceCategory']"
   ]
  },
  {
   "cell_type": "code",
   "execution_count": 4,
   "id": "14e30a45",
   "metadata": {},
   "outputs": [
    {
     "data": {
      "text/plain": [
       "<AxesSubplot:>"
      ]
     },
     "execution_count": 4,
     "metadata": {},
     "output_type": "execute_result"
    },
    {
     "data": {
      "image/png": "[encoded data removed]",
      "text/plain": [
       "<Figure size 1080x576 with 1 Axes>"
      ]
     },
     "metadata": {
      "needs_background": "light"
     },
     "output_type": "display_data"
    }
   ],
   "source": [
    "def mixup(X, y, alpha=0.2):\n",
    "    lam = np.random.beta(alpha, alpha)\n",
    "    mixup_image = lam * X + (1 - lam) * X[::-1]\n",
    "    mixup_label = lam * y + (1 - lam) * y[::-1]\n",
    "    return mixup_image, mixup_label\n",
    "\n",
    "# Split the data into training and testing sets\n",
    "X_train, X_test, y_train, y_test = train_test_split(X, y, test_size=0.2, random_state=42)"
   ]
  },
  {
   "cell_type": "code",
   "execution_count": 5,
   "id": "d0ca4fd7",
   "metadata": {},
   "outputs": [],
   "source": [
    "# Áp dụng hàm mixup cho tập huấn luyện\n",
    "X_train_mixup, y_train_mixup = mixup(X_train, y_train)"
   ]
  },
  {
   "cell_type": "code",
   "execution_count": 6,
   "id": "fcdc7bcc",
   "metadata": {},
   "outputs": [],
   "source": [
    "# Create a decision tree model\n",
    "model = DecisionTreeClassifier()\n",
    "\n",
    "# Train the model on the training data\n",
    "model.fit(X_train_mixup, y_train_mixup)\n",
    "\n",
    "# Make predictions on the testing data\n",
    "y_pred = model.predict(X_test)\n",
    "\n",
    "# Evaluate the accuracy of the model\n",
    "accuracy = accuracy_score(y_test, y_pred)\n",
    "print(f\"Accuracy: {accuracy}\")"
   ]
  },
  {
   "cell_type": "code",
   "execution_count": 7,
   "id": "2a35af7a",
   "metadata": {},
   "outputs": [
    {
     "name": "stderr",
     "output_type": "stream",
     "text": [
      "C:\\Users\\lamta\\AppData\\Local\\Temp/ipykernel_10124/372054287.py:2: SettingWithCopyWarning: \n",
      "A value is trying to be set on a copy of a slice from a DataFrame\n",
      "\n",
      "See the caveats in the documentation: https://pandas.pydata.org/pandas-docs/stable/user_guide/indexing.html#returning-a-view-versus-a-copy\n",
      "  df[columns_to_fill].fillna(df.mode().iloc[0], inplace=True)\n"
     ]
    }
   ],
   "source": [
    "# Điền giá trị trung bình cho tất cả các cột kiểu chữ trong DataFrame\n",
    "df[columns_to_fill].fillna(df.mode().iloc[0], inplace=True)"
   ]
  },
  {
   "cell_type": "code",
   "execution_count": 8,
   "id": "521bb92d",
   "metadata": {},
   "outputs": [],
   "source": [
    "# Sử dụng get_dummies để thực hiện One-Hot Encoding cho tất cả các cột\n",
    "df= pd.get_dummies(df,columns=[\n",
    "    'MSZoning', 'Street',\n",
    "    'LotConfig', 'Condition1', 'Condition2',\n",
    "    'BldgType', 'HouseStyle', 'RoofStyle', 'RoofMatl', 'Exterior1st',\n",
    "    'Exterior2nd', 'MasVnrType', 'Foundation',\n",
    "    'Heating', 'CentralAir', 'Electrical',\n",
    "    'GarageType','PavedDrive', 'SaleType', 'SaleCondition'\n",
    "], drop_first=True)"
   ]
  },
  {
   "cell_type": "code",
   "execution_count": 9,
   "id": "3754cfd2",
   "metadata": {},
   "outputs": [],
   "source": [
    "# Áp dụng Label Encoding cho các cột cần thiết thủ công\n",
    "label_mapping_lot_shape = {'Reg': 3, 'IR1': 2, 'IR2': 1, 'IR3': 0}\n",
    "label_mapping_land_contour = {'Lvl': 3, 'Bnk': 2, 'HLS': 1, 'Low': 0}\n",
    "label_mapping_utilities = {'AllPub': 3, 'NoSewr': 2, 'NoSeWa': 1, 'ELO': 0, 'NA': -1}\n",
    "label_mapping_land_slope = {'Gtl': 2, 'Mod': 1, 'Sev': 0}\n",
    "label_mapping_exter_qual = {'Ex': 4, 'Gd': 3, 'TA': 2, 'Fa': 1, 'Po': 0}\n",
    "label_mapping_exter_cond = {'Ex': 4, 'Gd': 3, 'TA': 2, 'Fa': 1, 'Po': 0}\n",
    "label_mapping_bsmt_qual = {'Ex': 4, 'Gd': 3, 'TA': 2, 'Fa': 1, 'Po': 0, 'NA': -1}\n",
    "label_mapping_bsmt_cond = {'Ex': 4, 'Gd': 3, 'TA': 2, 'Fa': 1, 'Po': 0, 'NA': -1}\n",
    "label_mapping_bsmt_exposure = {'Gd': 3, 'Av': 2, 'Mn': 1, 'No': 0, 'NA': -1}\n",
    "label_mapping_bsmt_fin_type1 = {'GLQ': 5, 'ALQ': 4, 'BLQ': 3, 'Rec': 2, 'LwQ': 1, 'Unf': 0, 'NA': -1}\n",
    "label_mapping_bsmt_fin_type2 = {'GLQ': 5, 'ALQ': 4, 'BLQ': 3, 'Rec': 2, 'LwQ': 1, 'Unf': 0, 'NA': -1}\n",
    "label_mapping_heating_qc = {'Ex': 4, 'Gd': 3, 'TA': 2, 'Fa': 1, 'Po': 0}\n",
    "label_mapping_kitchen_qual = {'Ex': 4, 'Gd': 3, 'TA': 2, 'Fa': 1, 'Po': 0, 'NA': -1}\n",
    "label_mapping_functional = {'Typ': 5, 'Min1': 4, 'Min2': 3, 'Mod': 2, 'Maj1': 1, 'Maj2': 0, 'Sev': -1, 'Sal': -2, 'NA': -1}\n",
    "label_mapping_garage_finish = {'Fin': 2, 'RFn': 1, 'Unf': 0, 'NA': -1}\n",
    "label_mapping_garage_qual = {'Ex': 4, 'Gd': 3, 'TA': 2, 'Fa': 1, 'Po': 0, 'NA': -1}\n",
    "label_mapping_garage_cond = {'Ex': 4, 'Gd': 3, 'TA': 2, 'Fa': 1, 'Po': 0, 'NA': -1}\n",
    "\n",
    "df['LotShape'] = df['LotShape'].map(label_mapping_lot_shape)\n",
    "df['LandContour'] = df['LandContour'].map(label_mapping_land_contour)\n",
    "df['Utilities'] = df['Utilities'].map(label_mapping_utilities)\n",
    "df['LandSlope'] = df['LandSlope'].map(label_mapping_land_slope)\n",
    "df['ExterQual'] = df['ExterQual'].map(label_mapping_exter_qual)\n",
    "df['ExterCond'] = df['ExterCond'].map(label_mapping_exter_cond)\n",
    "df['BsmtQual'] = df['BsmtQual'].map(label_mapping_bsmt_qual)\n",
    "df['BsmtCond'] = df['BsmtCond'].map(label_mapping_bsmt_cond)\n",
    "df['BsmtExposure'] = df['BsmtExposure'].map(label_mapping_bsmt_exposure)\n",
    "df['BsmtFinType1'] = df['BsmtFinType1'].map(label_mapping_bsmt_fin_type1)\n",
    "df['BsmtFinType2'] = df['BsmtFinType2'].map(label_mapping_bsmt_fin_type2)\n",
    "df['HeatingQC'] = df['HeatingQC'].map(label_mapping_heating_qc)\n",
    "df['KitchenQual'] = df['KitchenQual'].map(label_mapping_kitchen_qual)\n",
    "df['Functional'] = df['Functional'].map(label_mapping_functional)\n",
    "df['GarageFinish'] = df['GarageFinish'].map(label_mapping_garage_finish)\n",
    "df['GarageQual'] = df['GarageQual'].map(label_mapping_garage_qual)\n",
    "df['GarageCond'] = df['GarageCond'].map(label_mapping_garage_cond)"
   ]
  },
  {
   "cell_type": "code",
   "execution_count": null,
   "id": "08fee85f",
   "metadata": {},
   "outputs": [],
   "source": []
  },
  {
   "cell_type": "code",
   "execution_count": 10,
   "id": "c107e166",
   "metadata": {},
   "outputs": [],
   "source": [
    "# Separate features (X) and labels (y)\n",
    "X = df.drop(['Neighborhood'], axis=1)\n",
    "# X_train, X_test, y_train, y_test = train_test_split(X, y, test_size=0.2, random_state=42)"
   ]
  },
  {
   "cell_type": "code",
   "execution_count": 11,
   "id": "c144d19e",
   "metadata": {},
   "outputs": [],
   "source": [
    "# Đọc mô hình từ tệp\n",
    "loaded_model = joblib.load('gradient_boosting_model.pkl')\n",
    "\n",
    "# # Sử dụng mô hình đã đọc để đưa ra dự đoán\n",
    "# loaded_predictions = loaded_model.predict(X)"
   ]
  },
  {
   "cell_type": "code",
   "execution_count": 12,
   "id": "f828d6af",
   "metadata": {},
   "outputs": [
    {
     "ename": "ValueError",
     "evalue": "The feature names should match those that were passed during fit.\nFeature names unseen at fit time:\n- Exterior1st_NA\n- Exterior2nd_NA\n- MSZoning_NA\n- SaleType_NA\nFeature names seen at fit time, yet now missing:\n- Condition2_RRAe\n- Condition2_RRAn\n- Condition2_RRNn\n- Electrical_Mix\n- Electrical_NA\n- ...\n",
     "output_type": "error",
     "traceback": [
      "\u001b[1;31m---------------------------------------------------------------------------\u001b[0m",
      "\u001b[1;31mValueError\u001b[0m                                Traceback (most recent call last)",
      "\u001b[1;32m~\\AppData\\Local\\Temp/ipykernel_10124/885512237.py\u001b[0m in \u001b[0;36m<module>\u001b[1;34m\u001b[0m\n\u001b[0;32m      1\u001b[0m \u001b[1;31m# Make predictions on the test set\u001b[0m\u001b[1;33m\u001b[0m\u001b[1;33m\u001b[0m\u001b[0m\n\u001b[1;32m----> 2\u001b[1;33m \u001b[0my_pred\u001b[0m \u001b[1;33m=\u001b[0m \u001b[0mloaded_model\u001b[0m\u001b[1;33m.\u001b[0m\u001b[0mpredict\u001b[0m\u001b[1;33m(\u001b[0m\u001b[0mX\u001b[0m\u001b[1;33m)\u001b[0m\u001b[1;33m\u001b[0m\u001b[1;33m\u001b[0m\u001b[0m\n\u001b[0m",
      "\u001b[1;32m~\\anaconda3\\lib\\site-packages\\sklearn\\ensemble\\_gb.py\u001b[0m in \u001b[0;36mpredict\u001b[1;34m(self, X)\u001b[0m\n\u001b[0;32m   1784\u001b[0m             \u001b[0mThe\u001b[0m \u001b[0mpredicted\u001b[0m \u001b[0mvalues\u001b[0m\u001b[1;33m.\u001b[0m\u001b[1;33m\u001b[0m\u001b[1;33m\u001b[0m\u001b[0m\n\u001b[0;32m   1785\u001b[0m         \"\"\"\n\u001b[1;32m-> 1786\u001b[1;33m         X = self._validate_data(\n\u001b[0m\u001b[0;32m   1787\u001b[0m             \u001b[0mX\u001b[0m\u001b[1;33m,\u001b[0m \u001b[0mdtype\u001b[0m\u001b[1;33m=\u001b[0m\u001b[0mDTYPE\u001b[0m\u001b[1;33m,\u001b[0m \u001b[0morder\u001b[0m\u001b[1;33m=\u001b[0m\u001b[1;34m\"C\"\u001b[0m\u001b[1;33m,\u001b[0m \u001b[0maccept_sparse\u001b[0m\u001b[1;33m=\u001b[0m\u001b[1;34m\"csr\"\u001b[0m\u001b[1;33m,\u001b[0m \u001b[0mreset\u001b[0m\u001b[1;33m=\u001b[0m\u001b[1;32mFalse\u001b[0m\u001b[1;33m\u001b[0m\u001b[1;33m\u001b[0m\u001b[0m\n\u001b[0;32m   1788\u001b[0m         )\n",
      "\u001b[1;32m~\\anaconda3\\lib\\site-packages\\sklearn\\base.py\u001b[0m in \u001b[0;36m_validate_data\u001b[1;34m(self, X, y, reset, validate_separately, cast_to_ndarray, **check_params)\u001b[0m\n\u001b[0;32m    578\u001b[0m             \u001b[0mvalidated\u001b[0m\u001b[1;33m.\u001b[0m\u001b[1;33m\u001b[0m\u001b[1;33m\u001b[0m\u001b[0m\n\u001b[0;32m    579\u001b[0m         \"\"\"\n\u001b[1;32m--> 580\u001b[1;33m         \u001b[0mself\u001b[0m\u001b[1;33m.\u001b[0m\u001b[0m_check_feature_names\u001b[0m\u001b[1;33m(\u001b[0m\u001b[0mX\u001b[0m\u001b[1;33m,\u001b[0m \u001b[0mreset\u001b[0m\u001b[1;33m=\u001b[0m\u001b[0mreset\u001b[0m\u001b[1;33m)\u001b[0m\u001b[1;33m\u001b[0m\u001b[1;33m\u001b[0m\u001b[0m\n\u001b[0m\u001b[0;32m    581\u001b[0m \u001b[1;33m\u001b[0m\u001b[0m\n\u001b[0;32m    582\u001b[0m         \u001b[1;32mif\u001b[0m \u001b[0my\u001b[0m \u001b[1;32mis\u001b[0m \u001b[1;32mNone\u001b[0m \u001b[1;32mand\u001b[0m \u001b[0mself\u001b[0m\u001b[1;33m.\u001b[0m\u001b[0m_get_tags\u001b[0m\u001b[1;33m(\u001b[0m\u001b[1;33m)\u001b[0m\u001b[1;33m[\u001b[0m\u001b[1;34m\"requires_y\"\u001b[0m\u001b[1;33m]\u001b[0m\u001b[1;33m:\u001b[0m\u001b[1;33m\u001b[0m\u001b[1;33m\u001b[0m\u001b[0m\n",
      "\u001b[1;32m~\\anaconda3\\lib\\site-packages\\sklearn\\base.py\u001b[0m in \u001b[0;36m_check_feature_names\u001b[1;34m(self, X, reset)\u001b[0m\n\u001b[0;32m    505\u001b[0m                 )\n\u001b[0;32m    506\u001b[0m \u001b[1;33m\u001b[0m\u001b[0m\n\u001b[1;32m--> 507\u001b[1;33m             \u001b[1;32mraise\u001b[0m \u001b[0mValueError\u001b[0m\u001b[1;33m(\u001b[0m\u001b[0mmessage\u001b[0m\u001b[1;33m)\u001b[0m\u001b[1;33m\u001b[0m\u001b[1;33m\u001b[0m\u001b[0m\n\u001b[0m\u001b[0;32m    508\u001b[0m \u001b[1;33m\u001b[0m\u001b[0m\n\u001b[0;32m    509\u001b[0m     def _validate_data(\n",
      "\u001b[1;31mValueError\u001b[0m: The feature names should match those that were passed during fit.\nFeature names unseen at fit time:\n- Exterior1st_NA\n- Exterior2nd_NA\n- MSZoning_NA\n- SaleType_NA\nFeature names seen at fit time, yet now missing:\n- Condition2_RRAe\n- Condition2_RRAn\n- Condition2_RRNn\n- Electrical_Mix\n- Electrical_NA\n- ...\n"
     ]
    }
   ],
   "source": [
    "# Make predictions on the test set\n",
    "y_pred = loaded_model.predict(X)\n"
   ]
  },
  {
   "cell_type": "code",
   "execution_count": null,
   "id": "dbe0ef9b",
   "metadata": {},
   "outputs": [],
   "source": [
    "# Tạo DataFrame từ kết quả dự đoán và gán tên cột là 'Predicted'\n",
    "predictions_df = pd.DataFrame({'Predicted': y_pred})\n",
    "\n",
    "# Hiển thị và lưu DataFrame\n",
    "print(predictions_df)"
   ]
  },
  {
   "cell_type": "code",
   "execution_count": null,
   "id": "21bd394a",
   "metadata": {},
   "outputs": [],
   "source": [
    "# # Tạo DataFrame từ kết quả dự đoán và gán tên cột là 'Predicted'\n",
    "# predictions_df = pd.DataFrame({'Predicted': loaded_predictions})\n",
    "\n",
    "# # Hiển thị và lưu DataFrame\n",
    "# print(predictions_df)\n"
   ]
  },
  {
   "cell_type": "code",
   "execution_count": null,
   "id": "b98ed264",
   "metadata": {},
   "outputs": [],
   "source": []
  }
 ],
 "metadata": {
  "kernelspec": {
   "display_name": "Python 3 (ipykernel)",
   "language": "python",
   "name": "python3"
  },
  "language_info": {
   "codemirror_mode": {
    "name": "ipython",
    "version": 3
   },
   "file_extension": ".py",
   "mimetype": "text/x-python",
   "name": "python",
   "nbconvert_exporter": "python",
   "pygments_lexer": "ipython3",
   "version": "3.12.3"
  }
 },
 "nbformat": 4,
 "nbformat_minor": 5
}
