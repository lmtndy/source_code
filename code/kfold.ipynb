{
 "cells": [
  {
   "cell_type": "code",
   "execution_count": null,
   "id": "9fe49994-7c11-4fe7-8a43-f6846fb6c32d",
   "metadata": {},
   "outputs": [],
   "source": [
    "# Đối chiếu R square, chia làm 3 fold\n",
    "\n",
    "from sklearn.linear_model import LinearRegression\n",
    "from sklearn.model_selection import KFold\n",
    "import matplotlib.pyplot as plt"
   ]
  },
  {
   "cell_type": "code",
   "execution_count": null,
   "id": "1affaee6-7211-4843-8b6b-804df7944c02",
   "metadata": {},
   "outputs": [],
   "source": [
    "# Khởi tạo KFold với 5 folds\n",
    "kf = KFold(n_splits = 5)\n",
    "\n",
    "# Lưu trữ các kết quả\n",
    "r_squared_list = []\n",
    "intercept_list = []\n",
    "coef_list = []\n",
    "\n",
    "# Lặp qua các folds\n",
    "for train_index, test_index in kf.split(X):\n",
    "    # Khởi tạo mô hình trong mỗi fold\n",
    "    model = LinearRegression()\n",
    "    \n",
    "    # Tách dữ liệu thành tập huấn luyện và kiểm tra\n",
    "    X_train, X_test = X.iloc[train_index], X.iloc[test_index]\n",
    "    y_train, y_test = y.iloc[train_index], y.iloc[test_index]\n",
    "    \n",
    "    # Huấn luyện mô hình\n",
    "    model.fit(X_train, y_train)\n",
    "    \n",
    "    # Dự đoán và lưu các chỉ số\n",
    "    R_sq = model.score(X_test, y_test)\n",
    "    intercept = model.intercept_\n",
    "    coef = model.coef_\n",
    "    \n",
    "    r_squared_list.append(R_sq)\n",
    "    intercept_list.append(intercept)\n",
    "    coef_list.append(coef)"
   ]
  },
  {
   "cell_type": "code",
   "execution_count": null,
   "id": "8a5355e1-4ff1-4515-8cbb-f2cdcc9c660b",
   "metadata": {},
   "outputs": [],
   "source": [
    "# Hiển thị kết quả của các folds\n",
    "print(f\"R-squared for each fold: {r_squared_list}\")\n",
    "print(f\"Intercepts for each fold: {intercept_list}\")\n",
    "print(f\"Coefficients for each fold: {coef_list}\")\n",
    "\n",
    "# Trực quan hóa R-squared qua các folds\n",
    "plt.plot(range(1, 6), r_squared_list, marker='o', linestyle='--', color='r', label='R-squared')\n",
    "plt.title('R-squared across 5 folds')\n",
    "plt.xlabel('Fold number')\n",
    "plt.ylabel('R-squared')\n",
    "plt.legend()\n",
    "plt.show()\n",
    "\n",
    "\n",
    "# Vẽ các đường thẳng dựa trên coef và intercept của mỗi fold\n",
    "x_range = np.linspace(X['Price'].min(), X['Price'].max(), 100)\n",
    "\n",
    "plt.figure(figsize=(10, 6))\n",
    "\n",
    "# Lặp qua từng fold và vẽ đường thẳng\n",
    "for i, (intercept, coef) in enumerate(zip(intercept_list, coef_list), 1):\n",
    "    # Tính giá trị dự đoán dựa trên 'Price' (giả sử giữ 'Advertising cost' trung bình)\n",
    "    y_pred = intercept[0] + coef[0][0] * x_range + coef[0][1] * X['Advertising cost'].mean()\n",
    "    \n",
    "    # Vẽ đường thẳng cho mỗi fold\n",
    "    plt.plot(x_range, y_pred, label=f'Fold {i}')\n",
    "\n",
    "plt.title('Linear Regression Lines for Each Fold')\n",
    "plt.xlabel('Price')\n",
    "plt.ylabel('Predicted Sale')\n",
    "plt.legend()\n",
    "plt.show()"
   ]
  }
 ],
 "metadata": {
  "kernelspec": {
   "display_name": "Python 3 (ipykernel)",
   "language": "python",
   "name": "python3"
  },
  "language_info": {
   "codemirror_mode": {
    "name": "ipython",
    "version": 3
   },
   "file_extension": ".py",
   "mimetype": "text/x-python",
   "name": "python",
   "nbconvert_exporter": "python",
   "pygments_lexer": "ipython3",
   "version": "3.12.3"
  }
 },
 "nbformat": 4,
 "nbformat_minor": 5
}
