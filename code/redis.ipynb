{
 "cells": [
  {
   "cell_type": "code",
   "execution_count": 1,
   "id": "277330b5",
   "metadata": {},
   "outputs": [],
   "source": [
    "%matplotlib inline\n",
    "import numpy as np\n",
    "import pandas as pd\n",
    "import matplotlib.pyplot as plt\n",
    "import seaborn as sns"
   ]
  },
  {
   "cell_type": "code",
   "execution_count": 2,
   "id": "e64fa43d",
   "metadata": {},
   "outputs": [
    {
     "name": "stdout",
     "output_type": "stream",
     "text": [
      "DataFrame for Actors:\n",
      "     first_name   last_name date_of_birth\n",
      "0         Oscar       Isaac          1979\n",
      "1       Dominic      Fumusa          1969\n",
      "2       Justina     Machado          1972\n",
      "3         Carla      Gugino          1971\n",
      "4         David     Clennon          1943\n",
      "...         ...         ...           ...\n",
      "1314        Dan     Stevens          1982\n",
      "1315      Haley     Bennett          1988\n",
      "1316   Stefania  LaVie Owen          1997\n",
      "1317     Stefan     Kapicic          1978\n",
      "1318     Imelda    Staunton          1956\n",
      "\n",
      "[1319 rows x 3 columns]\n",
      "\n",
      "DataFrame for Movies:\n",
      "    votes                          title release_year  \\\n",
      "0     136                Wild Texas Wind         1991   \n",
      "1      14               Goin' to Chicago         1991   \n",
      "2      73        Canada: The Story of Us         2017   \n",
      "3     653     Un village presque parfait         2014   \n",
      "4    1438                    The Boat ()         2018   \n",
      "..    ...                            ...          ...   \n",
      "917   171            Young Guns of Texas         1962   \n",
      "918    72     New York Lightboard Record         1961   \n",
      "919    98                          Train         1988   \n",
      "920    36  Elton John: Live in Barcelona         1992   \n",
      "921   131          A Death in California         1985   \n",
      "\n",
      "                                                  plot rating        genre  \\\n",
      "0    A country singer becomes romantically entangle...    6.1        Drama   \n",
      "1                                                  N/A    7.4        Drama   \n",
      "2                                                  N/A    5.5        Drama   \n",
      "3    'Saint-Far-la-Mauderne',a small village hit ha...    5.9       Comedy   \n",
      "4    A solo sailor is locked inside the head of a s...    5.4      Mystery   \n",
      "..                                                 ...    ...          ...   \n",
      "917  A cowboy and 5 others pursue outlaws to recove...    4.9      Western   \n",
      "918  New Yorkers watch as Norman McLaren's animated...    6.0        Short   \n",
      "919  The film is about a train carrying fuel for th...    6.6       Action   \n",
      "920  This concert includes Elton John's performance...    7.7  Documentary   \n",
      "921  A Beverly Hills socialite embarks on a love/ha...    6.6        Drama   \n",
      "\n",
      "                                                poster   ibmdb_id  \n",
      "0    https://m.media-amazon.com/images/M/MV5BYTg2OD...  tt0103263  \n",
      "1                                                  N/A  tt0187067  \n",
      "2    https://m.media-amazon.com/images/M/MV5BZTAzND...  tt6076476  \n",
      "3    https://m.media-amazon.com/images/M/MV5BZDY2MD...  tt3324286  \n",
      "4    https://m.media-amazon.com/images/M/MV5BMjA5MD...  tt7468616  \n",
      "..                                                 ...        ...  \n",
      "917  https://m.media-amazon.com/images/M/MV5BZjY3Zj...  tt0056710  \n",
      "918                                                N/A  tt0055227  \n",
      "919  https://m.media-amazon.com/images/M/MV5BMDk2ZW...  tt1600756  \n",
      "920                                                NaN  tt0273192  \n",
      "921  https://m.media-amazon.com/images/M/MV5BMTM1NT...  tt0089004  \n",
      "\n",
      "[922 rows x 8 columns]\n"
     ]
    }
   ],
   "source": [
    "import redis\n",
    "import pandas as pd\n",
    "\n",
    "# Connect to Redis\n",
    "redis_client = redis.StrictRedis(host='localhost', port=6378, db=0)\n",
    "\n",
    "# Get all keys in Redis\n",
    "all_keys = redis_client.keys('*')\n",
    "\n",
    "# Create empty DataFrames for actors and movies\n",
    "df_actors = pd.DataFrame()\n",
    "df_movies = pd.DataFrame()\n",
    "\n",
    "# Iterate through all keys\n",
    "for key in all_keys:\n",
    "    # Get values for multiple fields in the hash\n",
    "    values = redis_client.hgetall(key)\n",
    "    \n",
    "    # Convert bytes to string for each value in the hash\n",
    "    values = {field.decode('utf-8'): value.decode('utf-8') for field, value in values.items()}\n",
    "    \n",
    "    # Add the values to the appropriate DataFrame based on the key pattern\n",
    "    if key.decode('utf-8').startswith('actor:'):\n",
    "        df_actors = df_actors.append(pd.DataFrame([values]))\n",
    "    elif key.decode('utf-8').startswith('movie:'):\n",
    "        df_movies = df_movies.append(pd.DataFrame([values]))\n",
    "\n",
    "# Reset index of the DataFrames\n",
    "df_actors.reset_index(drop=True, inplace=True)\n",
    "df_movies.reset_index(drop=True, inplace=True)\n",
    "\n",
    "# Print the DataFrames\n",
    "print(\"DataFrame for Actors:\")\n",
    "print(df_actors)\n",
    "\n",
    "print(\"\\nDataFrame for Movies:\")\n",
    "print(df_movies)"
   ]
  },
  {
   "cell_type": "code",
   "execution_count": 3,
   "id": "39e3b976",
   "metadata": {},
   "outputs": [
    {
     "data": {
      "text/html": [
       "<div>\n",
       "<style scoped>\n",
       "    .dataframe tbody tr th:only-of-type {\n",
       "        vertical-align: middle;\n",
       "    }\n",
       "\n",
       "    .dataframe tbody tr th {\n",
       "        vertical-align: top;\n",
       "    }\n",
       "\n",
       "    .dataframe thead th {\n",
       "        text-align: right;\n",
       "    }\n",
       "</style>\n",
       "<table border=\"1\" class=\"dataframe\">\n",
       "  <thead>\n",
       "    <tr style=\"text-align: right;\">\n",
       "      <th></th>\n",
       "      <th>first_name</th>\n",
       "      <th>last_name</th>\n",
       "      <th>date_of_birth</th>\n",
       "    </tr>\n",
       "  </thead>\n",
       "  <tbody>\n",
       "    <tr>\n",
       "      <th>0</th>\n",
       "      <td>Oscar</td>\n",
       "      <td>Isaac</td>\n",
       "      <td>1979</td>\n",
       "    </tr>\n",
       "    <tr>\n",
       "      <th>1</th>\n",
       "      <td>Dominic</td>\n",
       "      <td>Fumusa</td>\n",
       "      <td>1969</td>\n",
       "    </tr>\n",
       "    <tr>\n",
       "      <th>2</th>\n",
       "      <td>Justina</td>\n",
       "      <td>Machado</td>\n",
       "      <td>1972</td>\n",
       "    </tr>\n",
       "    <tr>\n",
       "      <th>3</th>\n",
       "      <td>Carla</td>\n",
       "      <td>Gugino</td>\n",
       "      <td>1971</td>\n",
       "    </tr>\n",
       "    <tr>\n",
       "      <th>4</th>\n",
       "      <td>David</td>\n",
       "      <td>Clennon</td>\n",
       "      <td>1943</td>\n",
       "    </tr>\n",
       "  </tbody>\n",
       "</table>\n",
       "</div>"
      ],
      "text/plain": [
       "  first_name last_name date_of_birth\n",
       "0      Oscar     Isaac          1979\n",
       "1    Dominic    Fumusa          1969\n",
       "2    Justina   Machado          1972\n",
       "3      Carla    Gugino          1971\n",
       "4      David   Clennon          1943"
      ]
     },
     "execution_count": 3,
     "metadata": {},
     "output_type": "execute_result"
    }
   ],
   "source": [
    "df_actors.head()"
   ]
  },
  {
   "cell_type": "code",
   "execution_count": 4,
   "id": "f3fce4bf",
   "metadata": {},
   "outputs": [
    {
     "data": {
      "text/html": [
       "<div>\n",
       "<style scoped>\n",
       "    .dataframe tbody tr th:only-of-type {\n",
       "        vertical-align: middle;\n",
       "    }\n",
       "\n",
       "    .dataframe tbody tr th {\n",
       "        vertical-align: top;\n",
       "    }\n",
       "\n",
       "    .dataframe thead th {\n",
       "        text-align: right;\n",
       "    }\n",
       "</style>\n",
       "<table border=\"1\" class=\"dataframe\">\n",
       "  <thead>\n",
       "    <tr style=\"text-align: right;\">\n",
       "      <th></th>\n",
       "      <th>votes</th>\n",
       "      <th>title</th>\n",
       "      <th>release_year</th>\n",
       "      <th>plot</th>\n",
       "      <th>rating</th>\n",
       "      <th>genre</th>\n",
       "      <th>poster</th>\n",
       "      <th>ibmdb_id</th>\n",
       "    </tr>\n",
       "  </thead>\n",
       "  <tbody>\n",
       "    <tr>\n",
       "      <th>0</th>\n",
       "      <td>136</td>\n",
       "      <td>Wild Texas Wind</td>\n",
       "      <td>1991</td>\n",
       "      <td>A country singer becomes romantically entangle...</td>\n",
       "      <td>6.1</td>\n",
       "      <td>Drama</td>\n",
       "      <td>https://m.media-amazon.com/images/M/MV5BYTg2OD...</td>\n",
       "      <td>tt0103263</td>\n",
       "    </tr>\n",
       "    <tr>\n",
       "      <th>1</th>\n",
       "      <td>14</td>\n",
       "      <td>Goin' to Chicago</td>\n",
       "      <td>1991</td>\n",
       "      <td>N/A</td>\n",
       "      <td>7.4</td>\n",
       "      <td>Drama</td>\n",
       "      <td>N/A</td>\n",
       "      <td>tt0187067</td>\n",
       "    </tr>\n",
       "    <tr>\n",
       "      <th>2</th>\n",
       "      <td>73</td>\n",
       "      <td>Canada: The Story of Us</td>\n",
       "      <td>2017</td>\n",
       "      <td>N/A</td>\n",
       "      <td>5.5</td>\n",
       "      <td>Drama</td>\n",
       "      <td>https://m.media-amazon.com/images/M/MV5BZTAzND...</td>\n",
       "      <td>tt6076476</td>\n",
       "    </tr>\n",
       "    <tr>\n",
       "      <th>3</th>\n",
       "      <td>653</td>\n",
       "      <td>Un village presque parfait</td>\n",
       "      <td>2014</td>\n",
       "      <td>'Saint-Far-la-Mauderne',a small village hit ha...</td>\n",
       "      <td>5.9</td>\n",
       "      <td>Comedy</td>\n",
       "      <td>https://m.media-amazon.com/images/M/MV5BZDY2MD...</td>\n",
       "      <td>tt3324286</td>\n",
       "    </tr>\n",
       "    <tr>\n",
       "      <th>4</th>\n",
       "      <td>1438</td>\n",
       "      <td>The Boat ()</td>\n",
       "      <td>2018</td>\n",
       "      <td>A solo sailor is locked inside the head of a s...</td>\n",
       "      <td>5.4</td>\n",
       "      <td>Mystery</td>\n",
       "      <td>https://m.media-amazon.com/images/M/MV5BMjA5MD...</td>\n",
       "      <td>tt7468616</td>\n",
       "    </tr>\n",
       "  </tbody>\n",
       "</table>\n",
       "</div>"
      ],
      "text/plain": [
       "  votes                       title release_year  \\\n",
       "0   136             Wild Texas Wind         1991   \n",
       "1    14            Goin' to Chicago         1991   \n",
       "2    73     Canada: The Story of Us         2017   \n",
       "3   653  Un village presque parfait         2014   \n",
       "4  1438                 The Boat ()         2018   \n",
       "\n",
       "                                                plot rating    genre  \\\n",
       "0  A country singer becomes romantically entangle...    6.1    Drama   \n",
       "1                                                N/A    7.4    Drama   \n",
       "2                                                N/A    5.5    Drama   \n",
       "3  'Saint-Far-la-Mauderne',a small village hit ha...    5.9   Comedy   \n",
       "4  A solo sailor is locked inside the head of a s...    5.4  Mystery   \n",
       "\n",
       "                                              poster   ibmdb_id  \n",
       "0  https://m.media-amazon.com/images/M/MV5BYTg2OD...  tt0103263  \n",
       "1                                                N/A  tt0187067  \n",
       "2  https://m.media-amazon.com/images/M/MV5BZTAzND...  tt6076476  \n",
       "3  https://m.media-amazon.com/images/M/MV5BZDY2MD...  tt3324286  \n",
       "4  https://m.media-amazon.com/images/M/MV5BMjA5MD...  tt7468616  "
      ]
     },
     "execution_count": 4,
     "metadata": {},
     "output_type": "execute_result"
    }
   ],
   "source": [
    "df_movies.head()"
   ]
  },
  {
   "cell_type": "code",
   "execution_count": 15,
   "id": "c5ff4dd4",
   "metadata": {},
   "outputs": [
    {
     "ename": "IndexError",
     "evalue": "index 0 is out of bounds for axis 0 with size 0",
     "output_type": "error",
     "traceback": [
      "\u001b[1;31m---------------------------------------------------------------------------\u001b[0m",
      "\u001b[1;31mIndexError\u001b[0m                                Traceback (most recent call last)",
      "\u001b[1;32m~\\AppData\\Local\\Temp/ipykernel_9044/2830311060.py\u001b[0m in \u001b[0;36m<module>\u001b[1;34m\u001b[0m\n\u001b[0;32m      3\u001b[0m \u001b[0mmissing\u001b[0m\u001b[1;33m.\u001b[0m\u001b[0msort_values\u001b[0m\u001b[1;33m(\u001b[0m\u001b[0minplace\u001b[0m \u001b[1;33m=\u001b[0m \u001b[1;32mTrue\u001b[0m\u001b[1;33m)\u001b[0m\u001b[1;33m\u001b[0m\u001b[1;33m\u001b[0m\u001b[0m\n\u001b[0;32m      4\u001b[0m \u001b[0mplt\u001b[0m\u001b[1;33m.\u001b[0m\u001b[0mfigure\u001b[0m\u001b[1;33m(\u001b[0m\u001b[0mfigsize\u001b[0m\u001b[1;33m=\u001b[0m\u001b[1;33m(\u001b[0m\u001b[1;36m15\u001b[0m\u001b[1;33m,\u001b[0m\u001b[1;36m8\u001b[0m\u001b[1;33m)\u001b[0m\u001b[1;33m)\u001b[0m\u001b[1;33m\u001b[0m\u001b[1;33m\u001b[0m\u001b[0m\n\u001b[1;32m----> 5\u001b[1;33m \u001b[0mmissing\u001b[0m\u001b[1;33m.\u001b[0m\u001b[0mplot\u001b[0m\u001b[1;33m.\u001b[0m\u001b[0mbar\u001b[0m\u001b[1;33m(\u001b[0m\u001b[1;33m)\u001b[0m\u001b[1;33m\u001b[0m\u001b[1;33m\u001b[0m\u001b[0m\n\u001b[0m",
      "\u001b[1;32m~\\anaconda3\\lib\\site-packages\\pandas\\plotting\\_core.py\u001b[0m in \u001b[0;36mbar\u001b[1;34m(self, x, y, **kwargs)\u001b[0m\n\u001b[0;32m   1128\u001b[0m         \u001b[0mother\u001b[0m \u001b[0maxis\u001b[0m \u001b[0mrepresents\u001b[0m \u001b[0ma\u001b[0m \u001b[0mmeasured\u001b[0m \u001b[0mvalue\u001b[0m\u001b[1;33m.\u001b[0m\u001b[1;33m\u001b[0m\u001b[1;33m\u001b[0m\u001b[0m\n\u001b[0;32m   1129\u001b[0m         \"\"\"\n\u001b[1;32m-> 1130\u001b[1;33m         \u001b[1;32mreturn\u001b[0m \u001b[0mself\u001b[0m\u001b[1;33m(\u001b[0m\u001b[0mkind\u001b[0m\u001b[1;33m=\u001b[0m\u001b[1;34m\"bar\"\u001b[0m\u001b[1;33m,\u001b[0m \u001b[0mx\u001b[0m\u001b[1;33m=\u001b[0m\u001b[0mx\u001b[0m\u001b[1;33m,\u001b[0m \u001b[0my\u001b[0m\u001b[1;33m=\u001b[0m\u001b[0my\u001b[0m\u001b[1;33m,\u001b[0m \u001b[1;33m**\u001b[0m\u001b[0mkwargs\u001b[0m\u001b[1;33m)\u001b[0m\u001b[1;33m\u001b[0m\u001b[1;33m\u001b[0m\u001b[0m\n\u001b[0m\u001b[0;32m   1131\u001b[0m \u001b[1;33m\u001b[0m\u001b[0m\n\u001b[0;32m   1132\u001b[0m     @Appender(\n",
      "\u001b[1;32m~\\anaconda3\\lib\\site-packages\\pandas\\plotting\\_core.py\u001b[0m in \u001b[0;36m__call__\u001b[1;34m(self, *args, **kwargs)\u001b[0m\n\u001b[0;32m    970\u001b[0m                     \u001b[0mdata\u001b[0m\u001b[1;33m.\u001b[0m\u001b[0mcolumns\u001b[0m \u001b[1;33m=\u001b[0m \u001b[0mlabel_name\u001b[0m\u001b[1;33m\u001b[0m\u001b[1;33m\u001b[0m\u001b[0m\n\u001b[0;32m    971\u001b[0m \u001b[1;33m\u001b[0m\u001b[0m\n\u001b[1;32m--> 972\u001b[1;33m         \u001b[1;32mreturn\u001b[0m \u001b[0mplot_backend\u001b[0m\u001b[1;33m.\u001b[0m\u001b[0mplot\u001b[0m\u001b[1;33m(\u001b[0m\u001b[0mdata\u001b[0m\u001b[1;33m,\u001b[0m \u001b[0mkind\u001b[0m\u001b[1;33m=\u001b[0m\u001b[0mkind\u001b[0m\u001b[1;33m,\u001b[0m \u001b[1;33m**\u001b[0m\u001b[0mkwargs\u001b[0m\u001b[1;33m)\u001b[0m\u001b[1;33m\u001b[0m\u001b[1;33m\u001b[0m\u001b[0m\n\u001b[0m\u001b[0;32m    973\u001b[0m \u001b[1;33m\u001b[0m\u001b[0m\n\u001b[0;32m    974\u001b[0m     \u001b[0m__call__\u001b[0m\u001b[1;33m.\u001b[0m\u001b[0m__doc__\u001b[0m \u001b[1;33m=\u001b[0m \u001b[0m__doc__\u001b[0m\u001b[1;33m\u001b[0m\u001b[1;33m\u001b[0m\u001b[0m\n",
      "\u001b[1;32m~\\anaconda3\\lib\\site-packages\\pandas\\plotting\\_matplotlib\\__init__.py\u001b[0m in \u001b[0;36mplot\u001b[1;34m(data, kind, **kwargs)\u001b[0m\n\u001b[0;32m     69\u001b[0m             \u001b[0mkwargs\u001b[0m\u001b[1;33m[\u001b[0m\u001b[1;34m\"ax\"\u001b[0m\u001b[1;33m]\u001b[0m \u001b[1;33m=\u001b[0m \u001b[0mgetattr\u001b[0m\u001b[1;33m(\u001b[0m\u001b[0max\u001b[0m\u001b[1;33m,\u001b[0m \u001b[1;34m\"left_ax\"\u001b[0m\u001b[1;33m,\u001b[0m \u001b[0max\u001b[0m\u001b[1;33m)\u001b[0m\u001b[1;33m\u001b[0m\u001b[1;33m\u001b[0m\u001b[0m\n\u001b[0;32m     70\u001b[0m     \u001b[0mplot_obj\u001b[0m \u001b[1;33m=\u001b[0m \u001b[0mPLOT_CLASSES\u001b[0m\u001b[1;33m[\u001b[0m\u001b[0mkind\u001b[0m\u001b[1;33m]\u001b[0m\u001b[1;33m(\u001b[0m\u001b[0mdata\u001b[0m\u001b[1;33m,\u001b[0m \u001b[1;33m**\u001b[0m\u001b[0mkwargs\u001b[0m\u001b[1;33m)\u001b[0m\u001b[1;33m\u001b[0m\u001b[1;33m\u001b[0m\u001b[0m\n\u001b[1;32m---> 71\u001b[1;33m     \u001b[0mplot_obj\u001b[0m\u001b[1;33m.\u001b[0m\u001b[0mgenerate\u001b[0m\u001b[1;33m(\u001b[0m\u001b[1;33m)\u001b[0m\u001b[1;33m\u001b[0m\u001b[1;33m\u001b[0m\u001b[0m\n\u001b[0m\u001b[0;32m     72\u001b[0m     \u001b[0mplot_obj\u001b[0m\u001b[1;33m.\u001b[0m\u001b[0mdraw\u001b[0m\u001b[1;33m(\u001b[0m\u001b[1;33m)\u001b[0m\u001b[1;33m\u001b[0m\u001b[1;33m\u001b[0m\u001b[0m\n\u001b[0;32m     73\u001b[0m     \u001b[1;32mreturn\u001b[0m \u001b[0mplot_obj\u001b[0m\u001b[1;33m.\u001b[0m\u001b[0mresult\u001b[0m\u001b[1;33m\u001b[0m\u001b[1;33m\u001b[0m\u001b[0m\n",
      "\u001b[1;32m~\\anaconda3\\lib\\site-packages\\pandas\\plotting\\_matplotlib\\core.py\u001b[0m in \u001b[0;36mgenerate\u001b[1;34m(self)\u001b[0m\n\u001b[0;32m    293\u001b[0m         \u001b[1;32mfor\u001b[0m \u001b[0max\u001b[0m \u001b[1;32min\u001b[0m \u001b[0mself\u001b[0m\u001b[1;33m.\u001b[0m\u001b[0maxes\u001b[0m\u001b[1;33m:\u001b[0m\u001b[1;33m\u001b[0m\u001b[1;33m\u001b[0m\u001b[0m\n\u001b[0;32m    294\u001b[0m             \u001b[0mself\u001b[0m\u001b[1;33m.\u001b[0m\u001b[0m_post_plot_logic_common\u001b[0m\u001b[1;33m(\u001b[0m\u001b[0max\u001b[0m\u001b[1;33m,\u001b[0m \u001b[0mself\u001b[0m\u001b[1;33m.\u001b[0m\u001b[0mdata\u001b[0m\u001b[1;33m)\u001b[0m\u001b[1;33m\u001b[0m\u001b[1;33m\u001b[0m\u001b[0m\n\u001b[1;32m--> 295\u001b[1;33m             \u001b[0mself\u001b[0m\u001b[1;33m.\u001b[0m\u001b[0m_post_plot_logic\u001b[0m\u001b[1;33m(\u001b[0m\u001b[0max\u001b[0m\u001b[1;33m,\u001b[0m \u001b[0mself\u001b[0m\u001b[1;33m.\u001b[0m\u001b[0mdata\u001b[0m\u001b[1;33m)\u001b[0m\u001b[1;33m\u001b[0m\u001b[1;33m\u001b[0m\u001b[0m\n\u001b[0m\u001b[0;32m    296\u001b[0m \u001b[1;33m\u001b[0m\u001b[0m\n\u001b[0;32m    297\u001b[0m     \u001b[1;32mdef\u001b[0m \u001b[0m_args_adjust\u001b[0m\u001b[1;33m(\u001b[0m\u001b[0mself\u001b[0m\u001b[1;33m)\u001b[0m\u001b[1;33m:\u001b[0m\u001b[1;33m\u001b[0m\u001b[1;33m\u001b[0m\u001b[0m\n",
      "\u001b[1;32m~\\anaconda3\\lib\\site-packages\\pandas\\plotting\\_matplotlib\\core.py\u001b[0m in \u001b[0;36m_post_plot_logic\u001b[1;34m(self, ax, data)\u001b[0m\n\u001b[0;32m   1526\u001b[0m         \u001b[0mname\u001b[0m \u001b[1;33m=\u001b[0m \u001b[0mself\u001b[0m\u001b[1;33m.\u001b[0m\u001b[0m_get_index_name\u001b[0m\u001b[1;33m(\u001b[0m\u001b[1;33m)\u001b[0m\u001b[1;33m\u001b[0m\u001b[1;33m\u001b[0m\u001b[0m\n\u001b[0;32m   1527\u001b[0m \u001b[1;33m\u001b[0m\u001b[0m\n\u001b[1;32m-> 1528\u001b[1;33m         \u001b[0ms_edge\u001b[0m \u001b[1;33m=\u001b[0m \u001b[0mself\u001b[0m\u001b[1;33m.\u001b[0m\u001b[0max_pos\u001b[0m\u001b[1;33m[\u001b[0m\u001b[1;36m0\u001b[0m\u001b[1;33m]\u001b[0m \u001b[1;33m-\u001b[0m \u001b[1;36m0.25\u001b[0m \u001b[1;33m+\u001b[0m \u001b[0mself\u001b[0m\u001b[1;33m.\u001b[0m\u001b[0mlim_offset\u001b[0m\u001b[1;33m\u001b[0m\u001b[1;33m\u001b[0m\u001b[0m\n\u001b[0m\u001b[0;32m   1529\u001b[0m         \u001b[0me_edge\u001b[0m \u001b[1;33m=\u001b[0m \u001b[0mself\u001b[0m\u001b[1;33m.\u001b[0m\u001b[0max_pos\u001b[0m\u001b[1;33m[\u001b[0m\u001b[1;33m-\u001b[0m\u001b[1;36m1\u001b[0m\u001b[1;33m]\u001b[0m \u001b[1;33m+\u001b[0m \u001b[1;36m0.25\u001b[0m \u001b[1;33m+\u001b[0m \u001b[0mself\u001b[0m\u001b[1;33m.\u001b[0m\u001b[0mbar_width\u001b[0m \u001b[1;33m+\u001b[0m \u001b[0mself\u001b[0m\u001b[1;33m.\u001b[0m\u001b[0mlim_offset\u001b[0m\u001b[1;33m\u001b[0m\u001b[1;33m\u001b[0m\u001b[0m\n\u001b[0;32m   1530\u001b[0m \u001b[1;33m\u001b[0m\u001b[0m\n",
      "\u001b[1;31mIndexError\u001b[0m: index 0 is out of bounds for axis 0 with size 0"
     ]
    },
    {
     "data": {
      "image/png": "[encoded data removed]",
      "text/plain": [
       "<Figure size 1080x576 with 1 Axes>"
      ]
     },
     "metadata": {
      "needs_background": "light"
     },
     "output_type": "display_data"
    }
   ],
   "source": [
    "missing = df_movies.isnull().sum()\n",
    "missing = missing[missing > 0]\n",
    "missing.sort_values(inplace = True)\n",
    "plt.figure(figsize=(15,8))\n",
    "missing.plot.bar()"
   ]
  },
  {
   "cell_type": "code",
   "execution_count": 6,
   "id": "b94fab56",
   "metadata": {},
   "outputs": [
    {
     "name": "stdout",
     "output_type": "stream",
     "text": [
      "<class 'pandas.core.frame.DataFrame'>\n",
      "RangeIndex: 922 entries, 0 to 921\n",
      "Data columns (total 8 columns):\n",
      " #   Column        Non-Null Count  Dtype \n",
      "---  ------        --------------  ----- \n",
      " 0   votes         922 non-null    object\n",
      " 1   title         922 non-null    object\n",
      " 2   release_year  922 non-null    object\n",
      " 3   plot          668 non-null    object\n",
      " 4   rating        922 non-null    object\n",
      " 5   genre         922 non-null    object\n",
      " 6   poster        667 non-null    object\n",
      " 7   ibmdb_id      653 non-null    object\n",
      "dtypes: object(8)\n",
      "memory usage: 57.8+ KB\n"
     ]
    }
   ],
   "source": [
    "df_movies.info()"
   ]
  },
  {
   "cell_type": "code",
   "execution_count": 7,
   "id": "627b9c0a",
   "metadata": {},
   "outputs": [
    {
     "name": "stdout",
     "output_type": "stream",
     "text": [
      "<class 'pandas.core.frame.DataFrame'>\n",
      "RangeIndex: 1319 entries, 0 to 1318\n",
      "Data columns (total 3 columns):\n",
      " #   Column         Non-Null Count  Dtype \n",
      "---  ------         --------------  ----- \n",
      " 0   first_name     1319 non-null   object\n",
      " 1   last_name      1319 non-null   object\n",
      " 2   date_of_birth  1319 non-null   object\n",
      "dtypes: object(3)\n",
      "memory usage: 31.0+ KB\n"
     ]
    }
   ],
   "source": [
    "df_actors.info()"
   ]
  },
  {
   "cell_type": "code",
   "execution_count": 12,
   "id": "3286e751",
   "metadata": {},
   "outputs": [],
   "source": [
    "# Điền giá trị thiếu trong cột 'plot' bằng \"unknown\"\n",
    "df_movies['plot'].fillna('unknown', inplace=True)\n",
    "\n",
    "# Điền giá trị thiếu trong cột 'poster' bằng \"unknown\"\n",
    "df_movies['poster'].fillna('unknown', inplace=True)\n",
    "\n",
    "# Điền giá trị thiếu trong cột 'ibmdb_id' bằng \"unknown\"\n",
    "df_movies['ibmdb_id'].fillna('unknown', inplace=True)"
   ]
  },
  {
   "cell_type": "code",
   "execution_count": 13,
   "id": "82f6e7e8",
   "metadata": {},
   "outputs": [
    {
     "name": "stdout",
     "output_type": "stream",
     "text": [
      "<class 'pandas.core.frame.DataFrame'>\n",
      "RangeIndex: 922 entries, 0 to 921\n",
      "Data columns (total 8 columns):\n",
      " #   Column        Non-Null Count  Dtype \n",
      "---  ------        --------------  ----- \n",
      " 0   votes         922 non-null    object\n",
      " 1   title         922 non-null    object\n",
      " 2   release_year  922 non-null    object\n",
      " 3   plot          922 non-null    object\n",
      " 4   rating        922 non-null    object\n",
      " 5   genre         922 non-null    object\n",
      " 6   poster        922 non-null    object\n",
      " 7   ibmdb_id      922 non-null    object\n",
      "dtypes: object(8)\n",
      "memory usage: 57.8+ KB\n"
     ]
    }
   ],
   "source": [
    "df_movies.info()"
   ]
  },
  {
   "cell_type": "code",
   "execution_count": 14,
   "id": "d08ec1d6",
   "metadata": {},
   "outputs": [
    {
     "data": {
      "text/html": [
       "<div>\n",
       "<style scoped>\n",
       "    .dataframe tbody tr th:only-of-type {\n",
       "        vertical-align: middle;\n",
       "    }\n",
       "\n",
       "    .dataframe tbody tr th {\n",
       "        vertical-align: top;\n",
       "    }\n",
       "\n",
       "    .dataframe thead th {\n",
       "        text-align: right;\n",
       "    }\n",
       "</style>\n",
       "<table border=\"1\" class=\"dataframe\">\n",
       "  <thead>\n",
       "    <tr style=\"text-align: right;\">\n",
       "      <th></th>\n",
       "      <th>votes</th>\n",
       "      <th>title</th>\n",
       "      <th>release_year</th>\n",
       "      <th>plot</th>\n",
       "      <th>rating</th>\n",
       "      <th>genre</th>\n",
       "      <th>poster</th>\n",
       "      <th>ibmdb_id</th>\n",
       "    </tr>\n",
       "  </thead>\n",
       "  <tbody>\n",
       "    <tr>\n",
       "      <th>0</th>\n",
       "      <td>136</td>\n",
       "      <td>Wild Texas Wind</td>\n",
       "      <td>1991</td>\n",
       "      <td>A country singer becomes romantically entangle...</td>\n",
       "      <td>6.1</td>\n",
       "      <td>Drama</td>\n",
       "      <td>https://m.media-amazon.com/images/M/MV5BYTg2OD...</td>\n",
       "      <td>tt0103263</td>\n",
       "    </tr>\n",
       "    <tr>\n",
       "      <th>1</th>\n",
       "      <td>14</td>\n",
       "      <td>Goin' to Chicago</td>\n",
       "      <td>1991</td>\n",
       "      <td>N/A</td>\n",
       "      <td>7.4</td>\n",
       "      <td>Drama</td>\n",
       "      <td>N/A</td>\n",
       "      <td>tt0187067</td>\n",
       "    </tr>\n",
       "    <tr>\n",
       "      <th>2</th>\n",
       "      <td>73</td>\n",
       "      <td>Canada: The Story of Us</td>\n",
       "      <td>2017</td>\n",
       "      <td>N/A</td>\n",
       "      <td>5.5</td>\n",
       "      <td>Drama</td>\n",
       "      <td>https://m.media-amazon.com/images/M/MV5BZTAzND...</td>\n",
       "      <td>tt6076476</td>\n",
       "    </tr>\n",
       "    <tr>\n",
       "      <th>3</th>\n",
       "      <td>653</td>\n",
       "      <td>Un village presque parfait</td>\n",
       "      <td>2014</td>\n",
       "      <td>'Saint-Far-la-Mauderne',a small village hit ha...</td>\n",
       "      <td>5.9</td>\n",
       "      <td>Comedy</td>\n",
       "      <td>https://m.media-amazon.com/images/M/MV5BZDY2MD...</td>\n",
       "      <td>tt3324286</td>\n",
       "    </tr>\n",
       "    <tr>\n",
       "      <th>4</th>\n",
       "      <td>1438</td>\n",
       "      <td>The Boat ()</td>\n",
       "      <td>2018</td>\n",
       "      <td>A solo sailor is locked inside the head of a s...</td>\n",
       "      <td>5.4</td>\n",
       "      <td>Mystery</td>\n",
       "      <td>https://m.media-amazon.com/images/M/MV5BMjA5MD...</td>\n",
       "      <td>tt7468616</td>\n",
       "    </tr>\n",
       "  </tbody>\n",
       "</table>\n",
       "</div>"
      ],
      "text/plain": [
       "  votes                       title release_year  \\\n",
       "0   136             Wild Texas Wind         1991   \n",
       "1    14            Goin' to Chicago         1991   \n",
       "2    73     Canada: The Story of Us         2017   \n",
       "3   653  Un village presque parfait         2014   \n",
       "4  1438                 The Boat ()         2018   \n",
       "\n",
       "                                                plot rating    genre  \\\n",
       "0  A country singer becomes romantically entangle...    6.1    Drama   \n",
       "1                                                N/A    7.4    Drama   \n",
       "2                                                N/A    5.5    Drama   \n",
       "3  'Saint-Far-la-Mauderne',a small village hit ha...    5.9   Comedy   \n",
       "4  A solo sailor is locked inside the head of a s...    5.4  Mystery   \n",
       "\n",
       "                                              poster   ibmdb_id  \n",
       "0  https://m.media-amazon.com/images/M/MV5BYTg2OD...  tt0103263  \n",
       "1                                                N/A  tt0187067  \n",
       "2  https://m.media-amazon.com/images/M/MV5BZTAzND...  tt6076476  \n",
       "3  https://m.media-amazon.com/images/M/MV5BZDY2MD...  tt3324286  \n",
       "4  https://m.media-amazon.com/images/M/MV5BMjA5MD...  tt7468616  "
      ]
     },
     "execution_count": 14,
     "metadata": {},
     "output_type": "execute_result"
    }
   ],
   "source": [
    "df_movies.head()"
   ]
  },
  {
   "cell_type": "code",
   "execution_count": 21,
   "id": "4b5ee9d7",
   "metadata": {},
   "outputs": [
    {
     "data": {
      "image/png": "[encoded data removed]",
      "text/plain": [
       "<Figure size 1080x576 with 1 Axes>"
      ]
     },
     "metadata": {
      "needs_background": "light"
     },
     "output_type": "display_data"
    }
   ],
   "source": [
    "import matplotlib.pyplot as plt\n",
    "import seaborn as sns\n",
    "\n",
    "# Chuyển đổi kiểu dữ liệu cột 'rating' sang numeric nếu chưa thực hiện\n",
    "df_movies['rating'] = pd.to_numeric(df_movies['rating'], errors='coerce')\n",
    "\n",
    "plt.figure(figsize=(15,8))\n",
    "\n",
    "# Visualize distribution của điểm (rating)\n",
    "sns.histplot(df_movies['rating'].dropna(), kde=True)\n",
    "\n",
    "plt.title('Distribution of Ratings')\n",
    "plt.xlabel('Rating')\n",
    "plt.show()"
   ]
  },
  {
   "cell_type": "code",
   "execution_count": 22,
   "id": "91c71347",
   "metadata": {},
   "outputs": [
    {
     "data": {
      "image/png": "[encoded data removed]",
      "text/plain": [
       "<Figure size 1080x576 with 1 Axes>"
      ]
     },
     "metadata": {
      "needs_background": "light"
     },
     "output_type": "display_data"
    }
   ],
   "source": [
    "# Chuyển đổi kiểu dữ liệu cột 'release_year' sang numeric nếu chưa thực hiện\n",
    "df_movies['release_year'] = pd.to_numeric(df_movies['release_year'], errors='coerce')\n",
    "\n",
    "# Visualize số lượng phim theo năm phát hành\n",
    "plt.figure(figsize=(15,8))\n",
    "sns.countplot(x='release_year', data=df_movies)\n",
    "plt.title('Number of Movies Released Each Year')\n",
    "plt.xlabel('Release Year')\n",
    "plt.xticks(rotation=45)\n",
    "plt.show()"
   ]
  },
  {
   "cell_type": "code",
   "execution_count": 23,
   "id": "8ff1acb0",
   "metadata": {},
   "outputs": [
    {
     "data": {
      "image/png": "[encoded data removed]",
      "text/plain": [
       "<Figure size 1080x432 with 1 Axes>"
      ]
     },
     "metadata": {
      "needs_background": "light"
     },
     "output_type": "display_data"
    }
   ],
   "source": [
    "# Visualize số lượng phim theo thể loại\n",
    "plt.figure(figsize=(15, 6))\n",
    "sns.countplot(x='genre', data=df_movies)\n",
    "plt.title('Number of Movies in Each Genre')\n",
    "plt.xlabel('Genre')\n",
    "plt.xticks(rotation=45, ha='right')\n",
    "plt.show()"
   ]
  },
  {
   "cell_type": "code",
   "execution_count": 24,
   "id": "32b91c55",
   "metadata": {},
   "outputs": [
    {
     "data": {
      "image/png": "[encoded data removed]",
      "text/plain": [
       "<Figure size 1080x576 with 1 Axes>"
      ]
     },
     "metadata": {
      "needs_background": "light"
     },
     "output_type": "display_data"
    }
   ],
   "source": [
    "# Chuyển đổi kiểu dữ liệu cột 'votes' sang numeric nếu chưa thực hiện\n",
    "df_movies['votes'] = pd.to_numeric(df_movies['votes'], errors='coerce')\n",
    "\n",
    "# Visualize distribution của số lượng votes\n",
    "plt.figure(figsize=(15,8))\n",
    "sns.histplot(df_movies['votes'].dropna(), kde=True)\n",
    "plt.title('Distribution of Votes')\n",
    "plt.xlabel('Number of Votes')\n",
    "plt.show()"
   ]
  },
  {
   "cell_type": "code",
   "execution_count": null,
   "id": "7c4249ab",
   "metadata": {},
   "outputs": [],
   "source": []
  }
 ],
 "metadata": {
  "kernelspec": {
   "display_name": "Python 3 (ipykernel)",
   "language": "python",
   "name": "python3"
  },
  "language_info": {
   "codemirror_mode": {
    "name": "ipython",
    "version": 3
   },
   "file_extension": ".py",
   "mimetype": "text/x-python",
   "name": "python",
   "nbconvert_exporter": "python",
   "pygments_lexer": "ipython3",
   "version": "3.12.3"
  }
 },
 "nbformat": 4,
 "nbformat_minor": 5
}
