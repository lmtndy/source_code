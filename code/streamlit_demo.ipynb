{
 "cells": [
  {
   "cell_type": "code",
   "execution_count": 1,
   "id": "1c914a2a-7e4b-429d-8e29-458e616a74a1",
   "metadata": {},
   "outputs": [],
   "source": [
    "import streamlit as st\n",
    "import tensorflow as tf\n",
    "import numpy as np\n",
    "from PIL import Image"
   ]
  },
  {
   "cell_type": "code",
   "execution_count": 2,
   "id": "a270643d-a423-4a03-95ab-ec837145d373",
   "metadata": {},
   "outputs": [
    {
     "name": "stderr",
     "output_type": "stream",
     "text": [
      "WARNING:absl:No training configuration found in the save file, so the model was *not* compiled. Compile it manually.\n"
     ]
    }
   ],
   "source": [
    "# Load the saved Keras model\n",
    "model = tf.keras.models.load_model('model.h5')"
   ]
  },
  {
   "cell_type": "code",
   "execution_count": 3,
   "id": "03f5ef5f-fd19-45f8-8246-ffd2d10eb9cf",
   "metadata": {},
   "outputs": [],
   "source": [
    "# Function to preprocess the image\n",
    "def preprocess_image(image):\n",
    "    img = Image.open(image)\n",
    "    img = img.resize((224, 224))  # Resize to the model's expected sizing\n",
    "    img = np.array(img) / 255.0   # Normalize\n",
    "    img = np.expand_dims(img, axis=0)  # Add batch dimension\n",
    "    return img"
   ]
  },
  {
   "cell_type": "code",
   "execution_count": 4,
   "id": "42e58650-6dc8-4087-8559-c3f25f26d87b",
   "metadata": {},
   "outputs": [],
   "source": [
    "# Function to make predictions\n",
    "def predict(image):\n",
    "    processed_img = preprocess_image(image)\n",
    "    prediction = model.predict(processed_img)\n",
    "    return prediction"
   ]
  },
  {
   "cell_type": "code",
   "execution_count": 5,
   "id": "086848e1-8af4-474f-b0ae-9cbb6be3cb07",
   "metadata": {},
   "outputs": [],
   "source": [
    "# Streamlit code in Jupyter notebook\n",
    "def run_streamlit_app():\n",
    "    st.title(\"Handwriting Recognition Demo\")\n",
    "    st.write(\"Upload an image for prediction\")\n",
    "\n",
    "    uploaded_file = st.file_uploader(\"Choose an image ...\", type=[\"jpg\", \"png\"])\n",
    "\n",
    "    if uploaded_file is not None:\n",
    "        st.image(uploaded_file, caption='Uploaded Image.', use_column_width=True)\n",
    "        st.write(\"\")\n",
    "        st.write(\"Classifying...\")\n",
    "\n",
    "        prediction = predict(uploaded_file)\n",
    "\n",
    "        # You can customize this part based on your model's output\n",
    "        st.write(f\"Prediction: {prediction}\")"
   ]
  },
  {
   "cell_type": "code",
   "execution_count": 6,
   "id": "e6e83ac7-5c21-4ead-bd8f-3877df9cc81f",
   "metadata": {
    "scrolled": true
   },
   "outputs": [
    {
     "name": "stderr",
     "output_type": "stream",
     "text": [
      "2024-07-09 22:56:53.019 \n",
      "  \u001b[33m\u001b[1mWarning:\u001b[0m to view this Streamlit app on a browser, run it with the following\n",
      "  command:\n",
      "\n",
      "    streamlit run C:\\Users\\lamta\\anaconda3\\Lib\\site-packages\\ipykernel_launcher.py [ARGUMENTS]\n"
     ]
    }
   ],
   "source": [
    "# Run the Streamlit app within the notebook\n",
    "if __name__ == '__main__':\n",
    "    run_streamlit_app()"
   ]
  }
 ],
 "metadata": {
  "kernelspec": {
   "display_name": "Python 3 (ipykernel)",
   "language": "python",
   "name": "python3"
  },
  "language_info": {
   "codemirror_mode": {
    "name": "ipython",
    "version": 3
   },
   "file_extension": ".py",
   "mimetype": "text/x-python",
   "name": "python",
   "nbconvert_exporter": "python",
   "pygments_lexer": "ipython3",
   "version": "3.12.4"
  }
 },
 "nbformat": 4,
 "nbformat_minor": 5
}
